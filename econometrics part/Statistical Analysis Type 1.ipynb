{
 "cells": [
  {
   "cell_type": "code",
   "execution_count": 1,
   "metadata": {},
   "outputs": [
    {
     "name": "stdout",
     "output_type": "stream",
     "text": [
      "CSV file loaded successfully!\n",
      "         Date   Time  Duration PatientType\n",
      "0  2023-08-01   8.23  0.949176      Type 2\n",
      "1  2023-08-01   8.49  0.479593      Type 1\n",
      "2  2023-08-01   9.12  0.496112      Type 2\n",
      "3  2023-08-01  10.26  0.691947      Type 2\n",
      "4  2023-08-01  10.64  0.345412      Type 1\n"
     ]
    }
   ],
   "source": [
    "import pandas as pd\n",
    "\n",
    "# Load the CSV file\n",
    "file_path = \"ScanRecords.csv\"  # Replace with the actual path to your CSV file\n",
    "try:\n",
    "    data = pd.read_csv(file_path)\n",
    "    print(\"CSV file loaded successfully!\")\n",
    "    print(data.head())  # Display the first few rows of the DataFrame\n",
    "except FileNotFoundError:\n",
    "    print(f\"Error: The file '{file_path}' was not found.\")\n",
    "except Exception as e:\n",
    "    print(f\"An error occurred: {e}\")"
   ]
  },
  {
   "cell_type": "code",
   "execution_count": 2,
   "metadata": {},
   "outputs": [
    {
     "name": "stdout",
     "output_type": "stream",
     "text": [
      "Estimated daily arrival rate (λ): 16.48\n"
     ]
    }
   ],
   "source": [
    "# Filter the data for Type 1 patients\n",
    "type1_data = data[data['PatientType'] == 'Type 1']\n",
    "\n",
    "# Group by date and count arrivals per day\n",
    "daily_arrivals = type1_data.groupby('Date').size()\n",
    "lambda_estimate = daily_arrivals.mean()  # Mean of daily arrivals\n",
    "print(f\"Estimated daily arrival rate (λ): {lambda_estimate:.2f}\")"
   ]
  },
  {
   "cell_type": "code",
   "execution_count": 4,
   "metadata": {},
   "outputs": [
    {
     "name": "stdout",
     "output_type": "stream",
     "text": [
      "Estimated mean (μ): 0.43\n",
      "Estimated standard deviation (σ): 0.10\n"
     ]
    }
   ],
   "source": [
    "# Convert 'Duration' to a numpy array\n",
    "scan_durations = type1_data['Duration'].values\n",
    "mu_estimate = scan_durations.mean()  # Mean of scan durations\n",
    "sigma_estimate = scan_durations.std()  # Standard deviation of scan durations\n",
    "print(f\"Estimated mean (μ): {mu_estimate:.2f}\")\n",
    "print(f\"Estimated standard deviation (σ): {sigma_estimate:.2f}\")"
   ]
  },
  {
   "cell_type": "code",
   "execution_count": 10,
   "metadata": {},
   "outputs": [
    {
     "name": "stdout",
     "output_type": "stream",
     "text": [
      "95% CI for mean (μ): (np.float64(0.4218715866383345), np.float64(0.4423800894831401))\n",
      "95% CI for standard deviation (σ): (np.float64(0.09033253767634766), np.float64(0.10486509073362885))\n"
     ]
    }
   ],
   "source": [
    "import numpy as np\n",
    "from scipy.stats import norm\n",
    "\n",
    "def bootstrap_parametric(n_bootstraps=1000):\n",
    "    boot_means = []\n",
    "    boot_stds = []\n",
    "    for _ in range(n_bootstraps):\n",
    "        # Generate bootstrap samples from the fitted normal distribution\n",
    "        boot_sample = norm.rvs(loc=mu_estimate, scale=sigma_estimate, size=len(scan_durations))\n",
    "        boot_means.append(boot_sample.mean())\n",
    "        boot_stds.append(boot_sample.std())\n",
    "    return np.array(boot_means), np.array(boot_stds)\n",
    "\n",
    "# Run the bootstrap\n",
    "n_bootstraps = 1000\n",
    "boot_means, boot_stds = bootstrap_parametric(n_bootstraps)\n",
    "\n",
    "# Confidence intervals\n",
    "mean_ci = (np.percentile(boot_means, 2.5), np.percentile(boot_means, 97.5))\n",
    "std_ci = (np.percentile(boot_stds, 2.5), np.percentile(boot_stds, 97.5))\n",
    "print(f\"95% CI for mean (μ): {mean_ci}\")\n",
    "print(f\"95% CI for standard deviation (σ): {std_ci}\")"
   ]
  },
  {
   "cell_type": "code",
   "execution_count": 11,
   "metadata": {},
   "outputs": [
    {
     "name": "stdout",
     "output_type": "stream",
     "text": [
      "MLE for daily arrival rate (λ): 16.48\n"
     ]
    }
   ],
   "source": [
    "# The daily_arrivals mean already serves as the MLE for λ in a Poisson distribution\n",
    "print(f\"MLE for daily arrival rate (λ): {lambda_estimate:.2f}\")"
   ]
  },
  {
   "cell_type": "code",
   "execution_count": 12,
   "metadata": {},
   "outputs": [
    {
     "name": "stdout",
     "output_type": "stream",
     "text": [
      "95% CI for daily arrivals: (np.float64(10.55), np.float64(23.0))\n"
     ]
    }
   ],
   "source": [
    "# Estimate confidence intervals for daily arrival rate\n",
    "arrival_ci = (np.percentile(daily_arrivals, 2.5), np.percentile(daily_arrivals, 97.5))\n",
    "print(f\"95% CI for daily arrivals: {arrival_ci}\")"
   ]
  },
  {
   "cell_type": "code",
   "execution_count": 13,
   "metadata": {},
   "outputs": [
    {
     "name": "stdout",
     "output_type": "stream",
     "text": [
      "95% CI for mean (μ): (np.float64(0.4218715866383345), np.float64(0.4423800894831401))\n",
      "95% CI for standard deviation (σ): (np.float64(0.09033253767634766), np.float64(0.10486509073362885))\n"
     ]
    }
   ],
   "source": [
    "# Print previously calculated CI for scan duration\n",
    "print(f\"95% CI for mean (μ): {mean_ci}\")\n",
    "print(f\"95% CI for standard deviation (σ): {std_ci}\")"
   ]
  },
  {
   "cell_type": "code",
   "execution_count": 37,
   "metadata": {},
   "outputs": [
    {
     "name": "stdout",
     "output_type": "stream",
     "text": [
      "Recommended timeslot length for Type 1 patients (99% CI): 0.69 hours (41.25 minutes)\n"
     ]
    }
   ],
   "source": [
    "from scipy.stats import norm\n",
    "import numpy as np\n",
    "\n",
    "# Given parameters for Type 1 patients\n",
    "mean_duration = 0.43  # in hours\n",
    "std_duration = 0.10   # in hours\n",
    "confidence_level = 0.99\n",
    "\n",
    "# Calculate the appropriate timeslot length\n",
    "z_score = norm.ppf((1 + confidence_level) / 2)  # 99% confidence interval\n",
    "timeslot_length = mean_duration + z_score * std_duration\n",
    "print(f\"Recommended timeslot length for Type 1 patients (99% CI): {timeslot_length:.2f} hours ({timeslot_length * 60:.2f} minutes)\")\n"
   ]
  }
 ],
 "metadata": {
  "kernelspec": {
   "display_name": "Python 3",
   "language": "python",
   "name": "python3"
  },
  "language_info": {
   "codemirror_mode": {
    "name": "ipython",
    "version": 3
   },
   "file_extension": ".py",
   "mimetype": "text/x-python",
   "name": "python",
   "nbconvert_exporter": "python",
   "pygments_lexer": "ipython3",
   "version": "3.11.9"
  }
 },
 "nbformat": 4,
 "nbformat_minor": 2
}
