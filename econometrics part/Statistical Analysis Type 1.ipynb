{
 "cells": [
  {
   "cell_type": "code",
   "execution_count": 15,
   "metadata": {},
   "outputs": [
    {
     "name": "stdout",
     "output_type": "stream",
     "text": [
      "CSV file loaded successfully!\n",
      "         Date   Time  Duration PatientType\n",
      "0  2023-08-01   8.23  0.949176      Type 2\n",
      "1  2023-08-01   8.49  0.479593      Type 1\n",
      "2  2023-08-01   9.12  0.496112      Type 2\n",
      "3  2023-08-01  10.26  0.691947      Type 2\n",
      "4  2023-08-01  10.64  0.345412      Type 1\n"
     ]
    }
   ],
   "source": [
    "import pandas as pd\n",
    "\n",
    "# Load the CSV file\n",
    "file_path = \"ScanRecords.csv\"  # Replace with the actual path to your CSV file\n",
    "try:\n",
    "    data = pd.read_csv(file_path)\n",
    "    print(\"CSV file loaded successfully!\")\n",
    "    print(data.head())  # Display the first few rows of the DataFrame\n",
    "except FileNotFoundError:\n",
    "    print(f\"Error: The file '{file_path}' was not found.\")\n",
    "except Exception as e:\n",
    "    print(f\"An error occurred: {e}\")"
   ]
  },
  {
   "cell_type": "code",
   "execution_count": 16,
   "metadata": {},
   "outputs": [
    {
     "data": {
      "text/html": [
       "<div>\n",
       "<style scoped>\n",
       "    .dataframe tbody tr th:only-of-type {\n",
       "        vertical-align: middle;\n",
       "    }\n",
       "\n",
       "    .dataframe tbody tr th {\n",
       "        vertical-align: top;\n",
       "    }\n",
       "\n",
       "    .dataframe thead th {\n",
       "        text-align: right;\n",
       "    }\n",
       "</style>\n",
       "<table border=\"1\" class=\"dataframe\">\n",
       "  <thead>\n",
       "    <tr style=\"text-align: right;\">\n",
       "      <th></th>\n",
       "      <th>Date</th>\n",
       "      <th>Time</th>\n",
       "      <th>Duration</th>\n",
       "      <th>PatientType</th>\n",
       "    </tr>\n",
       "  </thead>\n",
       "  <tbody>\n",
       "    <tr>\n",
       "      <th>0</th>\n",
       "      <td>2023-08-01</td>\n",
       "      <td>8.23</td>\n",
       "      <td>0.949176</td>\n",
       "      <td>Type 2</td>\n",
       "    </tr>\n",
       "    <tr>\n",
       "      <th>1</th>\n",
       "      <td>2023-08-01</td>\n",
       "      <td>8.49</td>\n",
       "      <td>0.479593</td>\n",
       "      <td>Type 1</td>\n",
       "    </tr>\n",
       "    <tr>\n",
       "      <th>2</th>\n",
       "      <td>2023-08-01</td>\n",
       "      <td>9.12</td>\n",
       "      <td>0.496112</td>\n",
       "      <td>Type 2</td>\n",
       "    </tr>\n",
       "    <tr>\n",
       "      <th>3</th>\n",
       "      <td>2023-08-01</td>\n",
       "      <td>10.26</td>\n",
       "      <td>0.691947</td>\n",
       "      <td>Type 2</td>\n",
       "    </tr>\n",
       "    <tr>\n",
       "      <th>4</th>\n",
       "      <td>2023-08-01</td>\n",
       "      <td>10.64</td>\n",
       "      <td>0.345412</td>\n",
       "      <td>Type 1</td>\n",
       "    </tr>\n",
       "    <tr>\n",
       "      <th>...</th>\n",
       "      <td>...</td>\n",
       "      <td>...</td>\n",
       "      <td>...</td>\n",
       "      <td>...</td>\n",
       "    </tr>\n",
       "    <tr>\n",
       "      <th>613</th>\n",
       "      <td>2023-08-31</td>\n",
       "      <td>15.54</td>\n",
       "      <td>0.409158</td>\n",
       "      <td>Type 1</td>\n",
       "    </tr>\n",
       "    <tr>\n",
       "      <th>614</th>\n",
       "      <td>2023-08-31</td>\n",
       "      <td>15.62</td>\n",
       "      <td>0.447213</td>\n",
       "      <td>Type 2</td>\n",
       "    </tr>\n",
       "    <tr>\n",
       "      <th>615</th>\n",
       "      <td>2023-08-31</td>\n",
       "      <td>15.87</td>\n",
       "      <td>0.468037</td>\n",
       "      <td>Type 1</td>\n",
       "    </tr>\n",
       "    <tr>\n",
       "      <th>616</th>\n",
       "      <td>2023-08-31</td>\n",
       "      <td>16.49</td>\n",
       "      <td>0.713091</td>\n",
       "      <td>Type 2</td>\n",
       "    </tr>\n",
       "    <tr>\n",
       "      <th>617</th>\n",
       "      <td>2023-08-31</td>\n",
       "      <td>16.63</td>\n",
       "      <td>0.321784</td>\n",
       "      <td>Type 1</td>\n",
       "    </tr>\n",
       "  </tbody>\n",
       "</table>\n",
       "<p>618 rows × 4 columns</p>\n",
       "</div>"
      ],
      "text/plain": [
       "           Date   Time  Duration PatientType\n",
       "0    2023-08-01   8.23  0.949176      Type 2\n",
       "1    2023-08-01   8.49  0.479593      Type 1\n",
       "2    2023-08-01   9.12  0.496112      Type 2\n",
       "3    2023-08-01  10.26  0.691947      Type 2\n",
       "4    2023-08-01  10.64  0.345412      Type 1\n",
       "..          ...    ...       ...         ...\n",
       "613  2023-08-31  15.54  0.409158      Type 1\n",
       "614  2023-08-31  15.62  0.447213      Type 2\n",
       "615  2023-08-31  15.87  0.468037      Type 1\n",
       "616  2023-08-31  16.49  0.713091      Type 2\n",
       "617  2023-08-31  16.63  0.321784      Type 1\n",
       "\n",
       "[618 rows x 4 columns]"
      ]
     },
     "execution_count": 16,
     "metadata": {},
     "output_type": "execute_result"
    }
   ],
   "source": [
    "data"
   ]
  },
  {
   "cell_type": "code",
   "execution_count": 17,
   "metadata": {},
   "outputs": [
    {
     "name": "stdout",
     "output_type": "stream",
     "text": [
      "Estimated daily arrival rate (λ): 16.48\n"
     ]
    }
   ],
   "source": [
    "# Filter the data for Type 1 patients\n",
    "type1_data = data[data['PatientType'] == 'Type 1']\n",
    "\n",
    "# Group by date and count arrivals per day\n",
    "daily_arrivals = type1_data.groupby('Date').size()\n",
    "lambda_estimate = daily_arrivals.mean()  # Mean of daily arrivals\n",
    "print(f\"Estimated daily arrival rate (λ): {lambda_estimate:.2f}\")"
   ]
  },
  {
   "cell_type": "code",
   "execution_count": 18,
   "metadata": {},
   "outputs": [
    {
     "name": "stdout",
     "output_type": "stream",
     "text": [
      "Estimated mean (μ): 0.43\n",
      "Estimated standard deviation (σ): 0.10\n"
     ]
    }
   ],
   "source": [
    "# Convert 'Duration' to a numpy array\n",
    "scan_durations = type1_data['Duration'].values\n",
    "mu_estimate = scan_durations.mean()  # Mean of scan durations\n",
    "sigma_estimate = scan_durations.std()  # Standard deviation of scan durations\n",
    "print(f\"Estimated mean (μ): {mu_estimate:.2f}\")\n",
    "print(f\"Estimated standard deviation (σ): {sigma_estimate:.2f}\")"
   ]
  },
  {
   "cell_type": "code",
   "execution_count": 19,
   "metadata": {},
   "outputs": [
    {
     "name": "stdout",
     "output_type": "stream",
     "text": [
      "95% CI for mean (μ): (np.float64(0.42232260993751947), np.float64(0.4419682813305272))\n",
      "95% CI for standard deviation (σ): (np.float64(0.09032704610972543), np.float64(0.10445100786830823))\n"
     ]
    }
   ],
   "source": [
    "import numpy as np\n",
    "from scipy.stats import norm\n",
    "\n",
    "def bootstrap_parametric(n_bootstraps=1000):\n",
    "    boot_means = []\n",
    "    boot_stds = []\n",
    "    for _ in range(n_bootstraps):\n",
    "        # Generate bootstrap samples from the fitted normal distribution\n",
    "        boot_sample = norm.rvs(loc=mu_estimate, scale=sigma_estimate, size=len(scan_durations))\n",
    "        boot_means.append(boot_sample.mean())\n",
    "        boot_stds.append(boot_sample.std())\n",
    "    return np.array(boot_means), np.array(boot_stds)\n",
    "\n",
    "# Run the bootstrap\n",
    "n_bootstraps = 1000\n",
    "boot_means, boot_stds = bootstrap_parametric(n_bootstraps)\n",
    "\n",
    "# Confidence intervals\n",
    "mean_ci = (np.percentile(boot_means, 2.5), np.percentile(boot_means, 97.5))\n",
    "std_ci = (np.percentile(boot_stds, 2.5), np.percentile(boot_stds, 97.5))\n",
    "print(f\"95% CI for mean (μ): {mean_ci}\")\n",
    "print(f\"95% CI for standard deviation (σ): {std_ci}\")"
   ]
  },
  {
   "cell_type": "code",
   "execution_count": 20,
   "metadata": {},
   "outputs": [
    {
     "name": "stdout",
     "output_type": "stream",
     "text": [
      "MLE for daily arrival rate (λ): 16.48\n"
     ]
    }
   ],
   "source": [
    "# The daily_arrivals mean already serves as the MLE for λ in a Poisson distribution\n",
    "print(f\"MLE for daily arrival rate (λ): {lambda_estimate:.2f}\")"
   ]
  },
  {
   "cell_type": "code",
   "execution_count": 21,
   "metadata": {},
   "outputs": [
    {
     "name": "stdout",
     "output_type": "stream",
     "text": [
      "95% CI for daily arrivals: (np.float64(10.55), np.float64(23.0))\n"
     ]
    }
   ],
   "source": [
    "# Estimate confidence intervals for daily arrival rate\n",
    "arrival_ci = (np.percentile(daily_arrivals, 2.5), np.percentile(daily_arrivals, 97.5))\n",
    "print(f\"95% CI for daily arrivals: {arrival_ci}\")"
   ]
  },
  {
   "cell_type": "code",
   "execution_count": 22,
   "metadata": {},
   "outputs": [
    {
     "name": "stdout",
     "output_type": "stream",
     "text": [
      "95% CI for mean (μ): (np.float64(0.42232260993751947), np.float64(0.4419682813305272))\n",
      "95% CI for standard deviation (σ): (np.float64(0.09032704610972543), np.float64(0.10445100786830823))\n"
     ]
    }
   ],
   "source": [
    "# Print previously calculated CI for scan duration\n",
    "print(f\"95% CI for mean (μ): {mean_ci}\")\n",
    "print(f\"95% CI for standard deviation (σ): {std_ci}\")"
   ]
  },
  {
   "cell_type": "code",
   "execution_count": 23,
   "metadata": {},
   "outputs": [
    {
     "name": "stdout",
     "output_type": "stream",
     "text": [
      "Recommended timeslot length for Type 1 patients (95% CI): 0.63 hours (37.56 minutes)\n"
     ]
    }
   ],
   "source": [
    "from scipy.stats import norm\n",
    "import numpy as np\n",
    "\n",
    "# Given parameters for Type 1 patients\n",
    "mean_duration = 0.43  # in hours\n",
    "std_duration = 0.10   # in hours\n",
    "confidence_level = 0.95\n",
    "\n",
    "# Calculate the appropriate timeslot length\n",
    "z_score = norm.ppf((1 + confidence_level) / 2)  # 99% confidence interval\n",
    "timeslot_length = mean_duration + z_score * std_duration\n",
    "print(f\"Recommended timeslot length for Type 1 patients (95% CI): {timeslot_length:.2f} hours ({timeslot_length * 60:.2f} minutes)\")\n"
   ]
  },
  {
   "cell_type": "code",
   "execution_count": 24,
   "metadata": {},
   "outputs": [
    {
     "name": "stdout",
     "output_type": "stream",
     "text": [
      "         Date  Time  Duration PatientType\n",
      "0  2023-08-01  8.79  0.168745      Type 1\n",
      "1  2023-08-01  9.34  0.525037      Type 1\n",
      "2  2023-08-01  9.44  0.511645      Type 1\n",
      "3  2023-08-01  9.54  0.277612      Type 1\n",
      "4  2023-08-01  9.58  0.387195      Type 1\n",
      "Simulated data saved to 'simulated_type1_patients_formatted.csv'\n"
     ]
    }
   ],
   "source": [
    "import numpy as np\n",
    "import pandas as pd\n",
    "from scipy.stats import poisson, norm, expon\n",
    "import datetime\n",
    "\n",
    "# Set random seed for reproducibility\n",
    "np.random.seed(42)\n",
    "\n",
    "# Given parameters for Type 1 patients\n",
    "mean_daily_arrivals = 16.48  # Estimated Poisson parameter (lambda)\n",
    "mean_duration = 0.43         # Mean scan duration (in hours)\n",
    "std_duration = 0.10          # Standard deviation of scan duration (in hours)\n",
    "\n",
    "# Simulation settings\n",
    "n_days = 30  # Number of days to simulate\n",
    "start_date = datetime.date(2023, 8, 1)  # Start date\n",
    "working_start_hour = 8  # Start of working day\n",
    "working_end_hour = 17  # End of working day (inclusive)\n",
    "working_hours = working_end_hour - working_start_hour  # Daily operational hours\n",
    "\n",
    "# Function to simulate a single day of Type 1 patients\n",
    "def simulate_type1_day(mean_daily_arrivals, mean_duration, std_duration, day_index):\n",
    "    \"\"\"\n",
    "    Simulates one day of Type 1 patient arrivals and durations.\n",
    "    \"\"\"\n",
    "    records = []\n",
    "    \n",
    "    # Simulate number of daily arrivals (Poisson distributed)\n",
    "    n_arrivals = poisson.rvs(mean_daily_arrivals)\n",
    "    \n",
    "    # Generate exponential inter-arrival times (in hours)\n",
    "    inter_arrivals = expon.rvs(scale=1.0 / (n_arrivals / working_hours), size=n_arrivals)\n",
    "    arrival_times = np.cumsum(inter_arrivals) + working_start_hour  # Adjust for working hours start\n",
    "    \n",
    "    # Truncate to working hours (8:00 to 17:00)\n",
    "    arrival_times = arrival_times[arrival_times < working_end_hour]\n",
    "    \n",
    "    # Simulate scan durations (normally distributed)\n",
    "    durations = norm.rvs(mean_duration, std_duration, size=len(arrival_times))\n",
    "    \n",
    "    # Create records for each patient\n",
    "    for arrival_time, duration in zip(arrival_times, durations):\n",
    "        # Format arrival time as float for Time column (e.g., 8.23)\n",
    "        hours = int(arrival_time)\n",
    "        minutes = (arrival_time - hours) * 60\n",
    "        time_float = round(hours + (minutes / 60), 2)\n",
    "        \n",
    "        record = {\n",
    "            \"Date\": (start_date + datetime.timedelta(days=day_index)).strftime(\"%Y-%m-%d\"),\n",
    "            \"Time\": time_float,\n",
    "            \"Duration\": duration,\n",
    "            \"PatientType\": \"Type 1\"\n",
    "        }\n",
    "        records.append(record)\n",
    "    \n",
    "    return records\n",
    "\n",
    "# Simulate data for multiple days\n",
    "def simulate_type1_patients(n_days, mean_daily_arrivals, mean_duration, std_duration):\n",
    "    all_records = []\n",
    "    for day_idx in range(n_days):\n",
    "        day_records = simulate_type1_day(mean_daily_arrivals, mean_duration, std_duration, day_idx)\n",
    "        all_records.extend(day_records)\n",
    "    return pd.DataFrame(all_records)\n",
    "\n",
    "# Run simulation for Type 1 patients\n",
    "simulated_data = simulate_type1_patients(n_days, mean_daily_arrivals, mean_duration, std_duration)\n",
    "\n",
    "# Save simulated data to CSV\n",
    "simulated_data.to_csv(\"simulated_type1_patients_formatted.csv\", index=False)\n",
    "\n",
    "# Print a preview of the simulated data\n",
    "print(simulated_data.head())\n",
    "\n",
    "print(\"Simulated data saved to 'simulated_type1_patients_formatted.csv'\")\n"
   ]
  },
  {
   "cell_type": "code",
   "execution_count": 25,
   "metadata": {},
   "outputs": [
    {
     "data": {
      "text/html": [
       "<div>\n",
       "<style scoped>\n",
       "    .dataframe tbody tr th:only-of-type {\n",
       "        vertical-align: middle;\n",
       "    }\n",
       "\n",
       "    .dataframe tbody tr th {\n",
       "        vertical-align: top;\n",
       "    }\n",
       "\n",
       "    .dataframe thead th {\n",
       "        text-align: right;\n",
       "    }\n",
       "</style>\n",
       "<table border=\"1\" class=\"dataframe\">\n",
       "  <thead>\n",
       "    <tr style=\"text-align: right;\">\n",
       "      <th></th>\n",
       "      <th>Date</th>\n",
       "      <th>Time</th>\n",
       "      <th>Duration</th>\n",
       "      <th>PatientType</th>\n",
       "    </tr>\n",
       "  </thead>\n",
       "  <tbody>\n",
       "    <tr>\n",
       "      <th>0</th>\n",
       "      <td>2023-08-01</td>\n",
       "      <td>8.79</td>\n",
       "      <td>0.168745</td>\n",
       "      <td>Type 1</td>\n",
       "    </tr>\n",
       "    <tr>\n",
       "      <th>1</th>\n",
       "      <td>2023-08-01</td>\n",
       "      <td>9.34</td>\n",
       "      <td>0.525037</td>\n",
       "      <td>Type 1</td>\n",
       "    </tr>\n",
       "    <tr>\n",
       "      <th>2</th>\n",
       "      <td>2023-08-01</td>\n",
       "      <td>9.44</td>\n",
       "      <td>0.511645</td>\n",
       "      <td>Type 1</td>\n",
       "    </tr>\n",
       "    <tr>\n",
       "      <th>3</th>\n",
       "      <td>2023-08-01</td>\n",
       "      <td>9.54</td>\n",
       "      <td>0.277612</td>\n",
       "      <td>Type 1</td>\n",
       "    </tr>\n",
       "    <tr>\n",
       "      <th>4</th>\n",
       "      <td>2023-08-01</td>\n",
       "      <td>9.58</td>\n",
       "      <td>0.387195</td>\n",
       "      <td>Type 1</td>\n",
       "    </tr>\n",
       "    <tr>\n",
       "      <th>...</th>\n",
       "      <td>...</td>\n",
       "      <td>...</td>\n",
       "      <td>...</td>\n",
       "      <td>...</td>\n",
       "    </tr>\n",
       "    <tr>\n",
       "      <th>407</th>\n",
       "      <td>2023-08-30</td>\n",
       "      <td>14.30</td>\n",
       "      <td>0.367713</td>\n",
       "      <td>Type 1</td>\n",
       "    </tr>\n",
       "    <tr>\n",
       "      <th>408</th>\n",
       "      <td>2023-08-30</td>\n",
       "      <td>15.23</td>\n",
       "      <td>0.380403</td>\n",
       "      <td>Type 1</td>\n",
       "    </tr>\n",
       "    <tr>\n",
       "      <th>409</th>\n",
       "      <td>2023-08-30</td>\n",
       "      <td>15.28</td>\n",
       "      <td>0.413189</td>\n",
       "      <td>Type 1</td>\n",
       "    </tr>\n",
       "    <tr>\n",
       "      <th>410</th>\n",
       "      <td>2023-08-30</td>\n",
       "      <td>15.61</td>\n",
       "      <td>0.392660</td>\n",
       "      <td>Type 1</td>\n",
       "    </tr>\n",
       "    <tr>\n",
       "      <th>411</th>\n",
       "      <td>2023-08-30</td>\n",
       "      <td>16.88</td>\n",
       "      <td>0.312643</td>\n",
       "      <td>Type 1</td>\n",
       "    </tr>\n",
       "  </tbody>\n",
       "</table>\n",
       "<p>412 rows × 4 columns</p>\n",
       "</div>"
      ],
      "text/plain": [
       "           Date   Time  Duration PatientType\n",
       "0    2023-08-01   8.79  0.168745      Type 1\n",
       "1    2023-08-01   9.34  0.525037      Type 1\n",
       "2    2023-08-01   9.44  0.511645      Type 1\n",
       "3    2023-08-01   9.54  0.277612      Type 1\n",
       "4    2023-08-01   9.58  0.387195      Type 1\n",
       "..          ...    ...       ...         ...\n",
       "407  2023-08-30  14.30  0.367713      Type 1\n",
       "408  2023-08-30  15.23  0.380403      Type 1\n",
       "409  2023-08-30  15.28  0.413189      Type 1\n",
       "410  2023-08-30  15.61  0.392660      Type 1\n",
       "411  2023-08-30  16.88  0.312643      Type 1\n",
       "\n",
       "[412 rows x 4 columns]"
      ]
     },
     "execution_count": 25,
     "metadata": {},
     "output_type": "execute_result"
    }
   ],
   "source": [
    "simulated_data"
   ]
  }
 ],
 "metadata": {
  "kernelspec": {
   "display_name": "Python 3",
   "language": "python",
   "name": "python3"
  },
  "language_info": {
   "codemirror_mode": {
    "name": "ipython",
    "version": 3
   },
   "file_extension": ".py",
   "mimetype": "text/x-python",
   "name": "python",
   "nbconvert_exporter": "python",
   "pygments_lexer": "ipython3",
   "version": "3.11.9"
  }
 },
 "nbformat": 4,
 "nbformat_minor": 2
}
