{
 "cells": [
  {
   "cell_type": "code",
   "execution_count": 1,
   "metadata": {},
   "outputs": [
    {
     "name": "stdout",
     "output_type": "stream",
     "text": [
      "CSV file loaded successfully!\n",
      "         Date   Time  Duration PatientType\n",
      "0  2023-08-01   8.23  0.949176      Type 2\n",
      "1  2023-08-01   8.49  0.479593      Type 1\n",
      "2  2023-08-01   9.12  0.496112      Type 2\n",
      "3  2023-08-01  10.26  0.691947      Type 2\n",
      "4  2023-08-01  10.64  0.345412      Type 1\n"
     ]
    }
   ],
   "source": [
    "import pandas as pd\n",
    "\n",
    "# Load the CSV file\n",
    "file_path = \"ScanRecords.csv\"  # Replace with the actual path to your CSV file\n",
    "try:\n",
    "    data = pd.read_csv(file_path)\n",
    "    print(\"CSV file loaded successfully!\")\n",
    "    print(data.head())  # Display the first few rows of the DataFrame\n",
    "except FileNotFoundError:\n",
    "    print(f\"Error: The file '{file_path}' was not found.\")\n",
    "except Exception as e:\n",
    "    print(f\"An error occurred: {e}\")\n"
   ]
  },
  {
   "cell_type": "code",
   "execution_count": 2,
   "metadata": {},
   "outputs": [
    {
     "data": {
      "text/html": [
       "<div>\n",
       "<style scoped>\n",
       "    .dataframe tbody tr th:only-of-type {\n",
       "        vertical-align: middle;\n",
       "    }\n",
       "\n",
       "    .dataframe tbody tr th {\n",
       "        vertical-align: top;\n",
       "    }\n",
       "\n",
       "    .dataframe thead th {\n",
       "        text-align: right;\n",
       "    }\n",
       "</style>\n",
       "<table border=\"1\" class=\"dataframe\">\n",
       "  <thead>\n",
       "    <tr style=\"text-align: right;\">\n",
       "      <th></th>\n",
       "      <th>Date</th>\n",
       "      <th>Time</th>\n",
       "      <th>Duration</th>\n",
       "      <th>PatientType</th>\n",
       "    </tr>\n",
       "  </thead>\n",
       "  <tbody>\n",
       "    <tr>\n",
       "      <th>0</th>\n",
       "      <td>2023-08-01</td>\n",
       "      <td>8.23</td>\n",
       "      <td>0.949176</td>\n",
       "      <td>Type 2</td>\n",
       "    </tr>\n",
       "    <tr>\n",
       "      <th>1</th>\n",
       "      <td>2023-08-01</td>\n",
       "      <td>8.49</td>\n",
       "      <td>0.479593</td>\n",
       "      <td>Type 1</td>\n",
       "    </tr>\n",
       "    <tr>\n",
       "      <th>2</th>\n",
       "      <td>2023-08-01</td>\n",
       "      <td>9.12</td>\n",
       "      <td>0.496112</td>\n",
       "      <td>Type 2</td>\n",
       "    </tr>\n",
       "    <tr>\n",
       "      <th>3</th>\n",
       "      <td>2023-08-01</td>\n",
       "      <td>10.26</td>\n",
       "      <td>0.691947</td>\n",
       "      <td>Type 2</td>\n",
       "    </tr>\n",
       "    <tr>\n",
       "      <th>4</th>\n",
       "      <td>2023-08-01</td>\n",
       "      <td>10.64</td>\n",
       "      <td>0.345412</td>\n",
       "      <td>Type 1</td>\n",
       "    </tr>\n",
       "    <tr>\n",
       "      <th>...</th>\n",
       "      <td>...</td>\n",
       "      <td>...</td>\n",
       "      <td>...</td>\n",
       "      <td>...</td>\n",
       "    </tr>\n",
       "    <tr>\n",
       "      <th>613</th>\n",
       "      <td>2023-08-31</td>\n",
       "      <td>15.54</td>\n",
       "      <td>0.409158</td>\n",
       "      <td>Type 1</td>\n",
       "    </tr>\n",
       "    <tr>\n",
       "      <th>614</th>\n",
       "      <td>2023-08-31</td>\n",
       "      <td>15.62</td>\n",
       "      <td>0.447213</td>\n",
       "      <td>Type 2</td>\n",
       "    </tr>\n",
       "    <tr>\n",
       "      <th>615</th>\n",
       "      <td>2023-08-31</td>\n",
       "      <td>15.87</td>\n",
       "      <td>0.468037</td>\n",
       "      <td>Type 1</td>\n",
       "    </tr>\n",
       "    <tr>\n",
       "      <th>616</th>\n",
       "      <td>2023-08-31</td>\n",
       "      <td>16.49</td>\n",
       "      <td>0.713091</td>\n",
       "      <td>Type 2</td>\n",
       "    </tr>\n",
       "    <tr>\n",
       "      <th>617</th>\n",
       "      <td>2023-08-31</td>\n",
       "      <td>16.63</td>\n",
       "      <td>0.321784</td>\n",
       "      <td>Type 1</td>\n",
       "    </tr>\n",
       "  </tbody>\n",
       "</table>\n",
       "<p>618 rows × 4 columns</p>\n",
       "</div>"
      ],
      "text/plain": [
       "           Date   Time  Duration PatientType\n",
       "0    2023-08-01   8.23  0.949176      Type 2\n",
       "1    2023-08-01   8.49  0.479593      Type 1\n",
       "2    2023-08-01   9.12  0.496112      Type 2\n",
       "3    2023-08-01  10.26  0.691947      Type 2\n",
       "4    2023-08-01  10.64  0.345412      Type 1\n",
       "..          ...    ...       ...         ...\n",
       "613  2023-08-31  15.54  0.409158      Type 1\n",
       "614  2023-08-31  15.62  0.447213      Type 2\n",
       "615  2023-08-31  15.87  0.468037      Type 1\n",
       "616  2023-08-31  16.49  0.713091      Type 2\n",
       "617  2023-08-31  16.63  0.321784      Type 1\n",
       "\n",
       "[618 rows x 4 columns]"
      ]
     },
     "execution_count": 2,
     "metadata": {},
     "output_type": "execute_result"
    }
   ],
   "source": [
    "data"
   ]
  },
  {
   "cell_type": "code",
   "execution_count": 3,
   "metadata": {},
   "outputs": [],
   "source": [
    "import pandas as pd\n",
    "import numpy as np\n",
    "import matplotlib.pyplot as plt\n",
    "import seaborn as sns\n",
    "from scipy.stats import norm, poisson, expon\n",
    "from sklearn.utils import resample\n"
   ]
  },
  {
   "cell_type": "code",
   "execution_count": 4,
   "metadata": {},
   "outputs": [
    {
     "name": "stdout",
     "output_type": "stream",
     "text": [
      "             Time    Duration\n",
      "count  618.000000  618.000000\n",
      "mean    12.427362    0.524192\n",
      "std      2.586324    0.180814\n",
      "min      8.010000    0.093731\n",
      "25%     10.232500    0.404489\n",
      "50%     12.225000    0.485701\n",
      "75%     14.687500    0.613319\n",
      "max     17.000000    1.146789\n"
     ]
    }
   ],
   "source": [
    "# Display summary statistics\n",
    "print(data.describe())\n",
    "\n",
    "# Separate data by patient type\n",
    "type1_data = data[data['PatientType'] == 'Type 1']\n",
    "type2_data = data[data['PatientType'] == 'Type 2']\n"
   ]
  },
  {
   "cell_type": "code",
   "execution_count": 5,
   "metadata": {},
   "outputs": [
    {
     "name": "stdout",
     "output_type": "stream",
     "text": [
      "Type 1 - Mean Duration: 0.43, Std Dev: 0.10\n"
     ]
    }
   ],
   "source": [
    "# Calculate mean and standard deviation for scan durations\n",
    "type1_durations = type1_data['Duration']\n",
    "mean_type1_duration = np.mean(type1_durations)\n",
    "std_type1_duration = np.std(type1_durations, ddof=1)  # Sample standard deviation\n",
    "\n",
    "print(f\"Type 1 - Mean Duration: {mean_type1_duration:.2f}, Std Dev: {std_type1_duration:.2f}\")\n"
   ]
  },
  {
   "cell_type": "code",
   "execution_count": 6,
   "metadata": {},
   "outputs": [
    {
     "name": "stdout",
     "output_type": "stream",
     "text": [
      "Type 1 - Mean Daily Arrivals: 16.48\n"
     ]
    }
   ],
   "source": [
    "# Group by date to count daily arrivals\n",
    "type1_arrivals_per_day = type1_data.groupby('Date').size()\n",
    "mean_daily_arrivals_type1 = np.mean(type1_arrivals_per_day)\n",
    "\n",
    "print(f\"Type 1 - Mean Daily Arrivals: {mean_daily_arrivals_type1:.2f}\")\n"
   ]
  },
  {
   "cell_type": "code",
   "execution_count": 7,
   "metadata": {},
   "outputs": [
    {
     "name": "stdout",
     "output_type": "stream",
     "text": [
      "Bootstrap CI for Mean Duration: [0.42333228 0.44284844]\n",
      "Bootstrap CI for Std Dev of Duration: [0.08980137 0.10501694]\n"
     ]
    }
   ],
   "source": [
    "# Bootstrap for scan durations\n",
    "n_iterations = 1000\n",
    "bootstrap_means = []\n",
    "bootstrap_stds = []\n",
    "\n",
    "for _ in range(n_iterations):\n",
    "    sample = resample(type1_durations)\n",
    "    bootstrap_means.append(np.mean(sample))\n",
    "    bootstrap_stds.append(np.std(sample, ddof=1))\n",
    "\n",
    "# Confidence intervals\n",
    "ci_mean = np.percentile(bootstrap_means, [2.5, 97.5])\n",
    "ci_std = np.percentile(bootstrap_stds, [2.5, 97.5])\n",
    "\n",
    "print(f\"Bootstrap CI for Mean Duration: {ci_mean}\")\n",
    "print(f\"Bootstrap CI for Std Dev of Duration: {ci_std}\")\n"
   ]
  },
  {
   "cell_type": "code",
   "execution_count": 8,
   "metadata": {},
   "outputs": [
    {
     "name": "stdout",
     "output_type": "stream",
     "text": [
      "Type 2 - Mean Duration: 0.67, Median: 0.65, Quartiles: [0.52396188 0.64660283 0.79652348]\n"
     ]
    }
   ],
   "source": [
    "# Calculate relevant statistics\n",
    "type2_durations = type2_data['Duration']\n",
    "mean_type2_duration = np.mean(type2_durations)\n",
    "median_type2_duration = np.median(type2_durations)\n",
    "quantiles_type2 = np.percentile(type2_durations, [25, 50, 75])\n",
    "\n",
    "print(f\"Type 2 - Mean Duration: {mean_type2_duration:.2f}, Median: {median_type2_duration:.2f}, Quartiles: {quantiles_type2}\")\n"
   ]
  },
  {
   "cell_type": "code",
   "execution_count": 9,
   "metadata": {},
   "outputs": [
    {
     "name": "stdout",
     "output_type": "stream",
     "text": [
      "Bootstrap CI for Mean Duration (Type 2): [0.64571253 0.6923403 ]\n"
     ]
    }
   ],
   "source": [
    "# Bootstrap for scan durations\n",
    "bootstrap_means_type2 = []\n",
    "for _ in range(n_iterations):\n",
    "    sample = resample(type2_durations)\n",
    "    bootstrap_means_type2.append(np.mean(sample))\n",
    "\n",
    "ci_mean_type2 = np.percentile(bootstrap_means_type2, [2.5, 97.5])\n",
    "print(f\"Bootstrap CI for Mean Duration (Type 2): {ci_mean_type2}\")\n"
   ]
  },
  {
   "cell_type": "code",
   "execution_count": 10,
   "metadata": {},
   "outputs": [
    {
     "name": "stdout",
     "output_type": "stream",
     "text": [
      "Simulated Total Arrivals in 30 Days: 461\n"
     ]
    }
   ],
   "source": [
    "# Simulate daily arrivals and scan durations\n",
    "simulated_arrivals = poisson.rvs(mean_daily_arrivals_type1, size=30)  # 30 days\n",
    "simulated_durations = norm.rvs(mean_type1_duration, std_type1_duration, size=sum(simulated_arrivals))\n",
    "\n",
    "print(f\"Simulated Total Arrivals in 30 Days: {sum(simulated_arrivals)}\")\n"
   ]
  },
  {
   "cell_type": "code",
   "execution_count": 11,
   "metadata": {},
   "outputs": [
    {
     "name": "stdout",
     "output_type": "stream",
     "text": [
      "Simulated Total Durations (Type 2): 100\n"
     ]
    }
   ],
   "source": [
    "# Generate new durations using bootstrap resampling\n",
    "simulated_durations_type2 = np.random.choice(type2_durations, size=100, replace=True)\n",
    "\n",
    "print(f\"Simulated Total Durations (Type 2): {len(simulated_durations_type2)}\")\n"
   ]
  },
  {
   "cell_type": "code",
   "execution_count": 12,
   "metadata": {},
   "outputs": [
    {
     "data": {
      "image/png": "[encoded data removed]",
      "text/plain": [
       "<Figure size 640x480 with 1 Axes>"
      ]
     },
     "metadata": {},
     "output_type": "display_data"
    }
   ],
   "source": [
    "sns.histplot(type1_durations, kde=True, label=\"Type 1\", color=\"blue\")\n",
    "sns.histplot(type2_durations, kde=True, label=\"Type 2\", color=\"orange\")\n",
    "plt.legend()\n",
    "plt.title(\"Scan Duration Distributions\")\n",
    "plt.show()\n"
   ]
  },
  {
   "cell_type": "code",
   "execution_count": 13,
   "metadata": {},
   "outputs": [
    {
     "name": "stdout",
     "output_type": "stream",
     "text": [
      "Type 1 Duration Mean (Simulated): 0.44\n",
      "Type 2 Duration Mean (Simulated): 0.66\n"
     ]
    }
   ],
   "source": [
    "print(f\"Type 1 Duration Mean (Simulated): {np.mean(simulated_durations):.2f}\")\n",
    "print(f\"Type 2 Duration Mean (Simulated): {np.mean(simulated_durations_type2):.2f}\")\n"
   ]
  }
 ],
 "metadata": {
  "kernelspec": {
   "display_name": "Python 3",
   "language": "python",
   "name": "python3"
  },
  "language_info": {
   "codemirror_mode": {
    "name": "ipython",
    "version": 3
   },
   "file_extension": ".py",
   "mimetype": "text/x-python",
   "name": "python",
   "nbconvert_exporter": "python",
   "pygments_lexer": "ipython3",
   "version": "3.11.9"
  }
 },
 "nbformat": 4,
 "nbformat_minor": 2
}
